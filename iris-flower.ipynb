{
 "cells": [
  {
   "cell_type": "code",
   "execution_count": 10,
   "id": "3e4400ad",
   "metadata": {
    "execution": {
     "iopub.execute_input": "2023-08-29T15:24:46.221868Z",
     "iopub.status.busy": "2023-08-29T15:24:46.221487Z",
     "iopub.status.idle": "2023-08-29T15:24:47.563709Z",
     "shell.execute_reply": "2023-08-29T15:24:47.562668Z"
    },
    "papermill": {
     "duration": 1.356809,
     "end_time": "2023-08-29T15:24:47.566226",
     "exception": false,
     "start_time": "2023-08-29T15:24:46.209417",
     "status": "completed"
    },
    "tags": []
   },
   "outputs": [],
   "source": [
    "import pandas as pd"
   ]
  },
  {
   "cell_type": "code",
   "execution_count": 11,
   "id": "e89c4540",
   "metadata": {
    "execution": {
     "iopub.execute_input": "2023-08-29T15:24:47.639026Z",
     "iopub.status.busy": "2023-08-29T15:24:47.637863Z",
     "iopub.status.idle": "2023-08-29T15:24:47.657833Z",
     "shell.execute_reply": "2023-08-29T15:24:47.656782Z"
    },
    "papermill": {
     "duration": 0.03489,
     "end_time": "2023-08-29T15:24:47.660389",
     "exception": false,
     "start_time": "2023-08-29T15:24:47.625499",
     "status": "completed"
    },
    "tags": []
   },
   "outputs": [],
   "source": [
    "df=pd.read_csv(\"iris.csv\")"
   ]
  },
  {
   "cell_type": "code",
   "execution_count": 12,
   "id": "fb1b40d3",
   "metadata": {
    "execution": {
     "iopub.execute_input": "2023-08-29T15:24:47.741446Z",
     "iopub.status.busy": "2023-08-29T15:24:47.740658Z",
     "iopub.status.idle": "2023-08-29T15:24:47.755262Z",
     "shell.execute_reply": "2023-08-29T15:24:47.754255Z"
    },
    "papermill": {
     "duration": 0.02955,
     "end_time": "2023-08-29T15:24:47.757461",
     "exception": false,
     "start_time": "2023-08-29T15:24:47.727911",
     "status": "completed"
    },
    "tags": []
   },
   "outputs": [
    {
     "data": {
      "text/html": [
       "<div>\n",
       "<style scoped>\n",
       "    .dataframe tbody tr th:only-of-type {\n",
       "        vertical-align: middle;\n",
       "    }\n",
       "\n",
       "    .dataframe tbody tr th {\n",
       "        vertical-align: top;\n",
       "    }\n",
       "\n",
       "    .dataframe thead th {\n",
       "        text-align: right;\n",
       "    }\n",
       "</style>\n",
       "<table border=\"1\" class=\"dataframe\">\n",
       "  <thead>\n",
       "    <tr style=\"text-align: right;\">\n",
       "      <th></th>\n",
       "      <th>Id</th>\n",
       "      <th>SepalLengthCm</th>\n",
       "      <th>SepalWidthCm</th>\n",
       "      <th>PetalLengthCm</th>\n",
       "      <th>PetalWidthCm</th>\n",
       "      <th>Species</th>\n",
       "    </tr>\n",
       "  </thead>\n",
       "  <tbody>\n",
       "    <tr>\n",
       "      <th>0</th>\n",
       "      <td>1</td>\n",
       "      <td>5.1</td>\n",
       "      <td>3.5</td>\n",
       "      <td>1.4</td>\n",
       "      <td>0.2</td>\n",
       "      <td>Iris-setosa</td>\n",
       "    </tr>\n",
       "    <tr>\n",
       "      <th>1</th>\n",
       "      <td>2</td>\n",
       "      <td>4.9</td>\n",
       "      <td>3.0</td>\n",
       "      <td>1.4</td>\n",
       "      <td>0.2</td>\n",
       "      <td>Iris-setosa</td>\n",
       "    </tr>\n",
       "    <tr>\n",
       "      <th>2</th>\n",
       "      <td>3</td>\n",
       "      <td>4.7</td>\n",
       "      <td>3.2</td>\n",
       "      <td>1.3</td>\n",
       "      <td>0.2</td>\n",
       "      <td>Iris-setosa</td>\n",
       "    </tr>\n",
       "    <tr>\n",
       "      <th>3</th>\n",
       "      <td>4</td>\n",
       "      <td>4.6</td>\n",
       "      <td>3.1</td>\n",
       "      <td>1.5</td>\n",
       "      <td>0.2</td>\n",
       "      <td>Iris-setosa</td>\n",
       "    </tr>\n",
       "    <tr>\n",
       "      <th>4</th>\n",
       "      <td>5</td>\n",
       "      <td>5.0</td>\n",
       "      <td>3.6</td>\n",
       "      <td>1.4</td>\n",
       "      <td>0.2</td>\n",
       "      <td>Iris-setosa</td>\n",
       "    </tr>\n",
       "  </tbody>\n",
       "</table>\n",
       "</div>"
      ],
      "text/plain": [
       "   Id  SepalLengthCm  SepalWidthCm  PetalLengthCm  PetalWidthCm      Species\n",
       "0   1            5.1           3.5            1.4           0.2  Iris-setosa\n",
       "1   2            4.9           3.0            1.4           0.2  Iris-setosa\n",
       "2   3            4.7           3.2            1.3           0.2  Iris-setosa\n",
       "3   4            4.6           3.1            1.5           0.2  Iris-setosa\n",
       "4   5            5.0           3.6            1.4           0.2  Iris-setosa"
      ]
     },
     "execution_count": 12,
     "metadata": {},
     "output_type": "execute_result"
    }
   ],
   "source": [
    "df.head()"
   ]
  },
  {
   "cell_type": "code",
   "execution_count": 13,
   "id": "da2ab3e9",
   "metadata": {
    "execution": {
     "iopub.execute_input": "2023-08-29T15:24:47.783956Z",
     "iopub.status.busy": "2023-08-29T15:24:47.783621Z",
     "iopub.status.idle": "2023-08-29T15:24:47.809139Z",
     "shell.execute_reply": "2023-08-29T15:24:47.807530Z"
    },
    "papermill": {
     "duration": 0.041583,
     "end_time": "2023-08-29T15:24:47.811465",
     "exception": false,
     "start_time": "2023-08-29T15:24:47.769882",
     "status": "completed"
    },
    "tags": []
   },
   "outputs": [
    {
     "name": "stdout",
     "output_type": "stream",
     "text": [
      "<class 'pandas.core.frame.DataFrame'>\n",
      "RangeIndex: 150 entries, 0 to 149\n",
      "Data columns (total 6 columns):\n",
      " #   Column         Non-Null Count  Dtype  \n",
      "---  ------         --------------  -----  \n",
      " 0   Id             150 non-null    int64  \n",
      " 1   SepalLengthCm  150 non-null    float64\n",
      " 2   SepalWidthCm   150 non-null    float64\n",
      " 3   PetalLengthCm  150 non-null    float64\n",
      " 4   PetalWidthCm   150 non-null    float64\n",
      " 5   Species        150 non-null    object \n",
      "dtypes: float64(4), int64(1), object(1)\n",
      "memory usage: 7.2+ KB\n"
     ]
    }
   ],
   "source": [
    "df.info()"
   ]
  },
  {
   "cell_type": "code",
   "execution_count": 14,
   "id": "ce73f9a7",
   "metadata": {
    "execution": {
     "iopub.execute_input": "2023-08-29T15:24:47.932770Z",
     "iopub.status.busy": "2023-08-29T15:24:47.932030Z",
     "iopub.status.idle": "2023-08-29T15:24:47.940110Z",
     "shell.execute_reply": "2023-08-29T15:24:47.939175Z"
    },
    "papermill": {
     "duration": 0.024096,
     "end_time": "2023-08-29T15:24:47.942207",
     "exception": false,
     "start_time": "2023-08-29T15:24:47.918111",
     "status": "completed"
    },
    "tags": []
   },
   "outputs": [
    {
     "data": {
      "text/plain": [
       "Species\n",
       "Iris-setosa        50\n",
       "Iris-versicolor    50\n",
       "Iris-virginica     50\n",
       "Name: count, dtype: int64"
      ]
     },
     "execution_count": 14,
     "metadata": {},
     "output_type": "execute_result"
    }
   ],
   "source": [
    "df[\"Species\"].value_counts()"
   ]
  },
  {
   "cell_type": "code",
   "execution_count": 15,
   "id": "029f29f5",
   "metadata": {
    "execution": {
     "iopub.execute_input": "2023-08-29T15:25:01.066137Z",
     "iopub.status.busy": "2023-08-29T15:25:01.065404Z",
     "iopub.status.idle": "2023-08-29T15:25:01.223560Z",
     "shell.execute_reply": "2023-08-29T15:25:01.222208Z"
    },
    "papermill": {
     "duration": 0.184634,
     "end_time": "2023-08-29T15:25:01.226702",
     "exception": false,
     "start_time": "2023-08-29T15:25:01.042068",
     "status": "completed"
    },
    "tags": []
   },
   "outputs": [],
   "source": [
    "from sklearn.preprocessing import LabelEncoder\n",
    "label_encoder=LabelEncoder()\n",
    "df['Species_encoded'] = label_encoder.fit_transform(df['Species'])"
   ]
  },
  {
   "cell_type": "code",
   "execution_count": 16,
   "id": "1a5eb81b",
   "metadata": {
    "execution": {
     "iopub.execute_input": "2023-08-29T15:25:02.074086Z",
     "iopub.status.busy": "2023-08-29T15:25:02.073498Z",
     "iopub.status.idle": "2023-08-29T15:25:02.079754Z",
     "shell.execute_reply": "2023-08-29T15:25:02.078941Z"
    },
    "papermill": {
     "duration": 0.033727,
     "end_time": "2023-08-29T15:25:02.081741",
     "exception": false,
     "start_time": "2023-08-29T15:25:02.048014",
     "status": "completed"
    },
    "tags": []
   },
   "outputs": [],
   "source": [
    "X = df.drop(columns=['Species'])\n",
    "Y = df['Species']"
   ]
  },
  {
   "cell_type": "code",
   "execution_count": 17,
   "id": "0b9a87a1",
   "metadata": {
    "execution": {
     "iopub.execute_input": "2023-08-29T15:25:02.139196Z",
     "iopub.status.busy": "2023-08-29T15:25:02.138541Z",
     "iopub.status.idle": "2023-08-29T15:25:02.255189Z",
     "shell.execute_reply": "2023-08-29T15:25:02.254031Z"
    },
    "papermill": {
     "duration": 0.151237,
     "end_time": "2023-08-29T15:25:02.258057",
     "exception": false,
     "start_time": "2023-08-29T15:25:02.106820",
     "status": "completed"
    },
    "tags": []
   },
   "outputs": [],
   "source": [
    "from sklearn.model_selection import train_test_split\n",
    "x_train, x_test, y_train, y_test = train_test_split(X, Y, test_size=0.30,random_state=1)"
   ]
  },
  {
   "cell_type": "code",
   "execution_count": 18,
   "id": "4fc8ccc9",
   "metadata": {
    "execution": {
     "iopub.execute_input": "2023-08-29T15:25:02.566593Z",
     "iopub.status.busy": "2023-08-29T15:25:02.565671Z",
     "iopub.status.idle": "2023-08-29T15:25:02.713622Z",
     "shell.execute_reply": "2023-08-29T15:25:02.712654Z"
    },
    "papermill": {
     "duration": 0.181111,
     "end_time": "2023-08-29T15:25:02.716562",
     "exception": false,
     "start_time": "2023-08-29T15:25:02.535451",
     "status": "completed"
    },
    "tags": []
   },
   "outputs": [
    {
     "name": "stdout",
     "output_type": "stream",
     "text": [
      "Accuracy of KNN model: 100.0\n"
     ]
    }
   ],
   "source": [
    "from sklearn.neighbors import KNeighborsClassifier\n",
    "knn = KNeighborsClassifier()\n",
    "knn.fit(x_train,y_train)\n",
    "knn_accuracy=knn.score(x_test, y_test)\n",
    "print(\"Accuracy of KNN model:\",knn_accuracy*100)\n",
    "y_pred_knn=knn.predict(x_test)"
   ]
  }
 ],
 "metadata": {
  "kernelspec": {
   "display_name": "Python 3",
   "language": "python",
   "name": "python3"
  },
  "language_info": {
   "codemirror_mode": {
    "name": "ipython",
    "version": 3
   },
   "file_extension": ".py",
   "mimetype": "text/x-python",
   "name": "python",
   "nbconvert_exporter": "python",
   "pygments_lexer": "ipython3",
   "version": "3.12.5"
  },
  "papermill": {
   "default_parameters": {},
   "duration": 31.637225,
   "end_time": "2023-08-29T15:25:06.147718",
   "environment_variables": {},
   "exception": null,
   "input_path": "__notebook__.ipynb",
   "output_path": "__notebook__.ipynb",
   "parameters": {},
   "start_time": "2023-08-29T15:24:34.510493",
   "version": "2.4.0"
  }
 },
 "nbformat": 4,
 "nbformat_minor": 5
}
